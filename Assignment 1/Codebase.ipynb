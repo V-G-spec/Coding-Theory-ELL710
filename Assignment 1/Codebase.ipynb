{
 "cells": [
  {
   "cell_type": "markdown",
   "id": "0d34060c-f545-422c-bb50-9729280ad8df",
   "metadata": {},
   "source": [
    "## Imports"
   ]
  },
  {
   "cell_type": "code",
   "execution_count": 3,
   "id": "2741f33e-5810-4b2e-a82b-90f4b405315d",
   "metadata": {},
   "outputs": [
    {
     "name": "stderr",
     "output_type": "stream",
     "text": [
      "c:\\users\\vansh\\appdata\\local\\programs\\python\\python39\\lib\\site-packages\\numpy\\_distributor_init.py:30: UserWarning: loaded more than 1 DLL from .libs:\n",
      "c:\\users\\vansh\\appdata\\local\\programs\\python\\python39\\lib\\site-packages\\numpy\\.libs\\libopenblas.EL2C6PLE4ZYW3ECEVIV3OXXGRN2NRFM2.gfortran-win_amd64.dll\n",
      "c:\\users\\vansh\\appdata\\local\\programs\\python\\python39\\lib\\site-packages\\numpy\\.libs\\libopenblas.GK7GX5KEQ4F6UYO3P26ULGBQYHGQO7J4.gfortran-win_amd64.dll\n",
      "  warnings.warn(\"loaded more than 1 DLL from .libs:\"\n"
     ]
    }
   ],
   "source": [
    "import random\n",
    "import numpy as np\n",
    "random.seed(41)"
   ]
  },
  {
   "cell_type": "markdown",
   "id": "c0607d29-c867-4b31-9978-d479b1a6dfd9",
   "metadata": {},
   "source": [
    "## Ingredients"
   ]
  },
  {
   "cell_type": "code",
   "execution_count": 4,
   "id": "2eb9e858-82cc-4907-a693-79a90ae41e25",
   "metadata": {},
   "outputs": [
    {
     "name": "stdout",
     "output_type": "stream",
     "text": [
      "[[1 1 1]]\n",
      "[[1 0 0 0 1 1 0]\n",
      " [0 1 0 0 0 1 1]\n",
      " [0 0 1 0 1 1 1]\n",
      " [0 0 0 1 1 0 1]]\n",
      "[[1 0 1 1 1 0 0]\n",
      " [1 1 1 0 0 1 0]\n",
      " [0 1 1 1 0 0 1]]\n"
     ]
    }
   ],
   "source": [
    "n=3\n",
    "G1 = [1 for i in range(n)]\n",
    "G1 = np.asarray(G1).reshape(1, n)\n",
    "print(G1)\n",
    "\n",
    "# A (7, 4) hamming code\n",
    "# Therefore G is (4, 7) matrix of form [I(4x4) P(4*3)]\n",
    "G2 = [[1, 0, 0, 0, 1, 1, 0], \n",
    "      [0, 1, 0, 0, 0, 1, 1], \n",
    "      [0, 0, 1, 0, 1, 1, 1], \n",
    "      [0, 0, 0, 1, 1, 0, 1]]\n",
    "G2 = np.asarray(G2)\n",
    "print(G2)\n",
    "\n",
    "# Corresponding H\n",
    "H2 = [[1, 0, 1, 1, 1, 0, 0], \n",
    "     [1, 1, 1, 0, 0, 1, 0], \n",
    "     [0, 1, 1, 1, 0, 0, 1]]\n",
    "H2 = np.asarray(H2)\n",
    "print(H2)"
   ]
  },
  {
   "cell_type": "markdown",
   "id": "66c46ae1-e5a1-453c-bad8-effe7d2c73d9",
   "metadata": {},
   "source": [
    "## Experiments"
   ]
  },
  {
   "cell_type": "markdown",
   "id": "a66539ef-83d7-4461-bae7-4e8252024630",
   "metadata": {},
   "source": [
    "### Prelim"
   ]
  },
  {
   "cell_type": "code",
   "execution_count": 5,
   "id": "9ae36420-b956-4318-907b-a1de0bdfd873",
   "metadata": {},
   "outputs": [
    {
     "name": "stdout",
     "output_type": "stream",
     "text": [
      "7756\n"
     ]
    }
   ],
   "source": [
    "text = \"\"\n",
    "with open('rickroll.txt') as f:\n",
    "    tempLin = f.readlines()\n",
    "\n",
    "for lin in tempLin:\n",
    "    text += lin\n",
    "# print(text)\n",
    "\n",
    "binText = ''.join(format(ord(x), 'b').zfill(7) for x in text)\n",
    "# print(binText)\n",
    "M = len(binText)\n",
    "print(M)"
   ]
  },
  {
   "cell_type": "markdown",
   "id": "d977a544-d224-49b3-965f-e375e41da58b",
   "metadata": {},
   "source": [
    "### Common Functions"
   ]
  },
  {
   "cell_type": "code",
   "execution_count": 13,
   "id": "c6f4e8ff-5fca-4ebc-8fa1-ac7f7fa2719a",
   "metadata": {},
   "outputs": [],
   "source": [
    "def incorporateErrTyp1(encodedStr, M, d):\n",
    "    nonZ = random.sample(range(0, M), d)\n",
    "    randBinErr = [0 for i in range(M)]\n",
    "    for i in nonZ:\n",
    "        randBinErr[i] = 1\n",
    "    ErrStr = \"\"\n",
    "    for k in randBinErr:\n",
    "        ErrStr += str(k)\n",
    "    assert(len(ErrStr) == len(encodedStr))\n",
    "    y = int(ErrStr,2) ^ int(encodedStr,2)\n",
    "    y = str(bin(y)[2:].zfill(len(ErrStr)))\n",
    "    return y\n",
    "\n",
    "\n",
    "def incorporateErrTyp2(encodedStr, M, d):\n",
    "    startidx = random.randint(0, M-d+1)\n",
    "    randBinErr = [0 for i in range(M)]\n",
    "    for i in range(startidx, startidx+d):\n",
    "        randBinErr[i] = 1\n",
    "    # print(randBinErr)\n",
    "    ErrStr = \"\"\n",
    "    for kiter in randBinErr:\n",
    "        ErrStr += str(kiter)\n",
    "    assert(len(ErrStr) == len(encodedStr))\n",
    "    y = int(ErrStr,2) ^ int(encodedStr,2)\n",
    "    y = str(bin(y)[2:].zfill(len(ErrStr)))\n",
    "    return y\n",
    "\n",
    "\n",
    "\n",
    "def convToAsciiAndCompare(y):\n",
    "    retrStr = \"\"\n",
    "    cnt=0\n",
    "    tots=0\n",
    "    for i in range(0, len(y), 7):\n",
    "        temp1 = y[i:i+7]\n",
    "        retrStr += chr(int(temp1, 2))\n",
    "        temp2 = binText[i:i+7]\n",
    "        tots+=1\n",
    "        if (temp1!=temp2):\n",
    "            # print(temp1, temp2)\n",
    "            cnt+=1\n",
    "    return cnt, tots, retrStr\n",
    "\n",
    "\n",
    "def encodeLC1(M, k):\n",
    "    finEnc = []\n",
    "    for i in range(0, M, k):\n",
    "        tmpBlock = np.asarray(int(binText[i:i+k])).reshape(1, 1)\n",
    "        bruh = np.matmul(tmpBlock, G1).reshape(-1).tolist()\n",
    "        finEnc += bruh\n",
    "\n",
    "    finEnc = ''.join([str(elem) for elem in finEnc])\n",
    "    return finEnc\n",
    "\n",
    "\n",
    "def encodeLC2(M, k):\n",
    "    finEnc = []\n",
    "    for i in range(0, M, k):\n",
    "        tmpBlock = np.asarray([int(elem) for elem in binText[i:i+k]]).reshape(1,k)\n",
    "        bruh = tmpBlock.dot(G2)%2\n",
    "        bruh = bruh.reshape(-1).tolist()\n",
    "        finEnc += bruh\n",
    "\n",
    "    finEnc = ''.join([str(elem) for elem in finEnc]) #Length should be 7/4 times that of M\n",
    "    return finEnc\n",
    "\n",
    "\n",
    "def decodeLC1(y, n):\n",
    "    y_ = \"\"\n",
    "    detErr = 0\n",
    "    for i in range(0, len(y), n):\n",
    "        tmpblk = y[i:i+n]\n",
    "        zerCnt = tmpblk.count('0')\n",
    "        if zerCnt>n//2:\n",
    "            y_+='0'\n",
    "        else:\n",
    "            y_+='1'\n",
    "        if (zerCnt !=n):\n",
    "            if (zerCnt!=0):\n",
    "                detErr+=1\n",
    "    return y_, detErr\n",
    "\n",
    "\n",
    "def decodeLC2(y, n):\n",
    "    H_ = np.transpose(H2) #(7x3)\n",
    "    y_ = \"\"\n",
    "    detErr = 0\n",
    "    for i in range(0, len(y), n):\n",
    "        tmpCod = y[i:i+n]\n",
    "        tmpCodMat = []\n",
    "        for kiter in tmpCod:\n",
    "            tmpCodMat.append(int(kiter))\n",
    "        synd = np.matmul(tmpCodMat, H_)%2\n",
    "        if 1 not in synd:\n",
    "            y_+=tmpCod[0:k]\n",
    "        else:\n",
    "            detErr+=1\n",
    "            for idxt, elem in enumerate(H_):\n",
    "                if (elem==synd).all():\n",
    "                    idx = idxt\n",
    "                    break\n",
    "            E = [0 for i in range(n)]\n",
    "            E[idx] = 1\n",
    "            ErrFix = \"\"\n",
    "            for kiter in E:\n",
    "                ErrFix+=str(kiter)\n",
    "            assert(len(ErrFix)==len(tmpCod))\n",
    "            tmpy_ = int(ErrFix,2) ^ int(tmpCod,2)\n",
    "            tmpy_ = str(bin(tmpy_)[2:].zfill(len(ErrFix)))\n",
    "            y_ += tmpy_[0:k]\n",
    "    return y_, detErr\n",
    "\n",
    "\n",
    "def saveFile(fileName, Pystring):\n",
    "    text_file = open(fileName, \"w\")\n",
    "    text_file.write(Pystring)\n",
    "    text_file.close()"
   ]
  },
  {
   "cell_type": "markdown",
   "id": "f056e606-3f4b-4608-bcdc-bf315bcd771c",
   "metadata": {},
   "source": [
    "### Experiment 1"
   ]
  },
  {
   "cell_type": "code",
   "execution_count": 7,
   "id": "28127ead-934f-4954-8da8-f0740d8be953",
   "metadata": {},
   "outputs": [
    {
     "name": "stdout",
     "output_type": "stream",
     "text": [
      "10 1108 0.9025270758122743\n",
      "97 1108 8.754512635379061\n",
      "191 1108 17.23826714801444\n",
      "404 1108 36.462093862815884\n",
      "1107 1108 99.90974729241877\n"
     ]
    }
   ],
   "source": [
    "D = [10, 100, 200, 500, 5000]\n",
    "for d in D:\n",
    "    \n",
    "    #### ERROR ####\n",
    "    y = incorporateErrTyp1(binText, M, d)\n",
    "    \n",
    "    #### FINDING AND PRINTING ERRORS ####\n",
    "    cnt, tots, retrStr = convToAsciiAndCompare(y)\n",
    "    print(cnt, tots, cnt*100/tots)\n",
    "    \n",
    "    #### SAVE FILE ####\n",
    "    fileName = \"rickroll_decode_Exp1_d\"+str(d)+\".txt\"\n",
    "    saveFile(fileName, retrStr)"
   ]
  },
  {
   "cell_type": "markdown",
   "id": "f0111d0d-af57-4b47-98cd-0b4418e9cb17",
   "metadata": {},
   "source": [
    "### Experiment 2"
   ]
  },
  {
   "cell_type": "markdown",
   "id": "41c4168f-24b7-42f9-b4e5-08577e6200ec",
   "metadata": {},
   "source": [
    "#### L1"
   ]
  },
  {
   "cell_type": "code",
   "execution_count": 9,
   "id": "8146c231-2927-4ce6-aab2-006e65798c89",
   "metadata": {},
   "outputs": [
    {
     "name": "stdout",
     "output_type": "stream",
     "text": [
      "10 0.12893243940175347 0 0.0 0 1108 0.0\n",
      "100 1.2893243940175347 0 0.0 0 1108 0.0\n",
      "199 2.5657555440948943 1 0.012893243940175348 1 1108 0.09025270758122744\n",
      "486 6.266116554925219 14 0.18050541516245489 14 1108 1.263537906137184\n",
      "3895 50.21918514698298 943 12.158329035585353 649 1108 58.57400722021661\n"
     ]
    }
   ],
   "source": [
    "n, k = 3, 1\n",
    "\n",
    "#### ENCODING ####\n",
    "finEnc = encodeLC1(M, k)\n",
    "M_ = len(finEnc)\n",
    "\n",
    "D = [10, 100, 200, 500, 5000]\n",
    "for d in D:\n",
    "    \n",
    "    #### ERROR ####\n",
    "    y = incorporateErrTyp1(finEnc, M_, d)\n",
    "    \n",
    "    #### DECODING ####\n",
    "    y_, detErr = decodeLC1(y, n)    \n",
    "    \n",
    "    #### FINDING AND PRINTING ERRORS ####\n",
    "    remErr = sum(1 for a, b in zip(y_, binText) if a != b)\n",
    "    cnt, tots, retrStr = convToAsciiAndCompare(y_)\n",
    "    print(detErr, detErr*100/len(y_), remErr, remErr*100/len(y_), cnt, tots, cnt*100/tots)\n",
    "    \n",
    "    #### SAVE FILE ####\n",
    "    fileName = \"rickroll_decode_Exp2_L1_d\"+str(d)+\".txt\"\n",
    "    saveFile(fileName, retrStr)"
   ]
  },
  {
   "cell_type": "markdown",
   "id": "da9a9488-49b3-407e-a07d-4e01a15bdd5a",
   "metadata": {},
   "source": [
    "#### L2"
   ]
  },
  {
   "cell_type": "code",
   "execution_count": 14,
   "id": "5731986a-0519-4f7e-920b-bb6d41531573",
   "metadata": {},
   "outputs": [
    {
     "name": "stdout",
     "output_type": "stream",
     "text": [
      "10 0.12893243940175347 0 0.0 0 1108 0.0\n",
      "97 1.2506446621970089 5 0.06446621970087674 3 1108 0.27075812274368233\n",
      "187 2.41103661681279 18 0.23207839092315627 13 1108 1.1732851985559567\n",
      "449 5.789066529138731 78 1.0056730273336771 52 1108 4.693140794223827\n",
      "1666 21.48014440433213 3064 39.504899432697265 1057 1108 95.3971119133574\n"
     ]
    }
   ],
   "source": [
    "n, k = 7, 4\n",
    "# G = (4x7)\n",
    "# H = (3x7)\n",
    "\n",
    "#### ENCODING ####\n",
    "finEnc = encodeLC2(M, k)\n",
    "M_ = len(finEnc)\n",
    "\n",
    "D = [10, 100, 200, 500, 5000]\n",
    "for d in D:\n",
    "    \n",
    "    #### ERROR ####\n",
    "    y = incorporateErrTyp1(finEnc, M_, d)\n",
    "    \n",
    "    #### DECODING ####\n",
    "    y_, detErr = decodeLC2(y, n)\n",
    "    \n",
    "    #### FINDING AND PRINTING ERRORS ####\n",
    "    remErr= sum(1 for a, b in zip(y_, binText) if a != b)\n",
    "    cnt, tots, retrStr = convToAsciiAndCompare(y_)\n",
    "    print(detErr, detErr*100/len(y_), remErr, remErr*100/len(y_), cnt, tots, cnt*100/tots)\n",
    "    \n",
    "    #### SAVE FILE ####\n",
    "    fileName = \"rickroll_decode_Exp2_L2_d\"+str(d)+\".txt\"\n",
    "    saveFile(fileName, retrStr)"
   ]
  },
  {
   "cell_type": "markdown",
   "id": "a5f8935d-d21d-4490-8264-40999a32f7c7",
   "metadata": {},
   "source": [
    "### Experiment 3"
   ]
  },
  {
   "cell_type": "markdown",
   "id": "1eea6feb-757d-4019-8912-5bcf8a5a8cea",
   "metadata": {},
   "source": [
    "#### L1"
   ]
  },
  {
   "cell_type": "code",
   "execution_count": 15,
   "id": "e9ba43c2-70ac-4fe8-9ca6-dd8b69091952",
   "metadata": {},
   "outputs": [
    {
     "name": "stdout",
     "output_type": "stream",
     "text": [
      "2 0.025786487880350695 4 0.05157297576070139 1 1108 0.09025270758122744\n",
      "2 0.025786487880350695 34 0.43837029396596183 6 1108 0.5415162454873647\n",
      "1 0.012893243940175348 67 0.8638473439917483 10 1108 0.9025270758122743\n",
      "1 0.012893243940175348 167 2.153171738009283 25 1108 2.256317689530686\n",
      "1 0.012893243940175348 1667 21.493037648272306 239 1108 21.57039711191336\n"
     ]
    }
   ],
   "source": [
    "n, k = 3, 1\n",
    "\n",
    "#### ENCODING ####\n",
    "finEnc = encodeLC1(M, k)\n",
    "M_ = len(finEnc)\n",
    "\n",
    "D = [10, 100, 200, 500]\n",
    "for d in D:\n",
    "    \n",
    "    #### ERROR ####\n",
    "    y = incorporateErrTyp2(finEnc, M_, d)\n",
    "    \n",
    "    #### DECODING ####\n",
    "    y_, detErr = decodeLC1(y, n)\n",
    "    \n",
    "    #### FINDING AND PRINTING ERRORS ####\n",
    "    remErr = sum(1 for a, b in zip(y_, binText) if a != b)\n",
    "    cnt, tots, retrStr = convToAsciiAndCompare(y_)\n",
    "    print(detErr, detErr*100/len(y_), remErr, remErr*100/len(y_), cnt, tots, cnt*100/tots)\n",
    "    \n",
    "    #### SAVE FILE ####\n",
    "    fileName = \"rickroll_decode_Exp3_L1_d\"+str(d)+\".txt\"\n",
    "    saveFile(fileName, retrStr)"
   ]
  },
  {
   "cell_type": "markdown",
   "id": "1420e7a8-54a5-4fba-9dad-b80126efea35",
   "metadata": {},
   "source": [
    "#### L2"
   ]
  },
  {
   "cell_type": "code",
   "execution_count": 16,
   "id": "3bb714df-3194-4457-9e14-9ccd91f5720e",
   "metadata": {},
   "outputs": [
    {
     "name": "stdout",
     "output_type": "stream",
     "text": [
      "2 0.025786487880350695 5 0.06446621970087674 2 1108 0.18050541516245489\n",
      "1 0.012893243940175348 59 0.7607013924703455 9 1108 0.8122743682310469\n",
      "2 0.025786487880350695 116 1.4956162970603404 18 1108 1.6245487364620939\n",
      "2 0.025786487880350695 284 3.661681279009799 42 1108 3.7906137184115525\n"
     ]
    }
   ],
   "source": [
    "n, k = 7, 4\n",
    "# G = (4x7)\n",
    "# H = (3x7)\n",
    "\n",
    "#### ENCODING ####\n",
    "finEnc = encodeLC2(M, k)\n",
    "M_ = len(finEnc)\n",
    "\n",
    "D = [10, 100, 200, 500]\n",
    "for d in D:\n",
    "    #### ERROR ####\n",
    "    y = incorporateErrTyp2(finEnc, M_, d)\n",
    "    \n",
    "    #### DECODING ####\n",
    "    y_, detErr = decodeLC2(y, n)\n",
    "    \n",
    "    #### FINDING AND PRINTING ERRORS ####\n",
    "    remErr = sum(1 for a, b in zip(y_, binText) if a != b)\n",
    "    cnt, tots, retrStr = convToAsciiAndCompare(y_)\n",
    "    print(detErr, detErr*100/len(y_), remErr, remErr*100/len(y_), cnt, tots, cnt*100/tots)\n",
    "    \n",
    "    #### SAVE FILE ####\n",
    "    fileName = \"rickroll_decode_Exp3_L2_d\"+str(d)+\".txt\"\n",
    "    saveFile(fileName, retrStr)"
   ]
  },
  {
   "cell_type": "markdown",
   "id": "ec48da6a-f52a-4b62-9eaf-2aab7b5dde7b",
   "metadata": {},
   "source": [
    "### Experiment 4"
   ]
  },
  {
   "cell_type": "markdown",
   "id": "9d4a9b2e-10ee-4f07-8bc5-6aefca7ab361",
   "metadata": {},
   "source": [
    "#### L1"
   ]
  },
  {
   "cell_type": "code",
   "execution_count": 23,
   "id": "49f2106b-ac6f-49b7-8c1d-0c634b315e35",
   "metadata": {},
   "outputs": [
    {
     "name": "stdout",
     "output_type": "stream",
     "text": [
      "10 0.12893243940175347 0 0.0 0 1108 0.0\n",
      "99 1.2764311500773595 1 0.012893243940175348 1 1108 0.09025270758122744\n",
      "199 2.5657555440948943 1 0.012893243940175348 1 1108 0.09025270758122744\n",
      "485 6.253223310985044 15 0.1933986591026302 15 1108 1.3537906137184115\n"
     ]
    }
   ],
   "source": [
    "n, k = 3, 1\n",
    "\n",
    "#### ENCODING ####\n",
    "finEnc = encodeLC1(M, k)\n",
    "M_ = len(finEnc)\n",
    "rot_fac = M_//2 # Because why not\n",
    "\n",
    "#### PERMUTE: RIGHT SHIFT BY ROT_FAC ####\n",
    "# finEncRot = finEnc[len(finEnc)-rot_fac : ] + finEnc[0 : len(finEnc)-rot_fac]\n",
    "finEncRot = \"\"\n",
    "permut = random.sample(range(0, M_), M_)\n",
    "for el in permut:\n",
    "    finEncRot+=finEnc[el]\n",
    "    \n",
    "D = [10, 100, 200, 500]\n",
    "for d in D:\n",
    "    \n",
    "    #### ERROR ####\n",
    "    y = incorporateErrTyp2(finEncRot, M_, d)\n",
    "    \n",
    "    ### INVERSE PERMUTE: RIGHT SHIFT BY ROT_FAC ####\n",
    "    # y_ = y[rot_fac : ] + y[0 : rot_fac]\n",
    "    y_tmp = [\",\" for _ in range(len(y))]\n",
    "    for a,b in zip(y, permut):\n",
    "        y_tmp[b] = a\n",
    "    y_ = \"\"\n",
    "    for el in y_tmp:\n",
    "        y_+=el\n",
    "    \n",
    "    #### DECODING ####\n",
    "    y_, detErr = decodeLC1(y_, n)\n",
    "    \n",
    "    #### FINDING AND PRINTING ERRORS ####\n",
    "    remErr = sum(1 for a, b in zip(y_, binText) if a != b)\n",
    "    cnt, tots, retrStr = convToAsciiAndCompare(y_)\n",
    "    print(detErr, detErr*100/len(y_), remErr, remErr*100/len(y_), cnt, tots, cnt*100/tots)\n",
    "    \n",
    "    #### SAVE FILE ####\n",
    "    fileName = \"rickroll_decode_Exp4_L1_d\"+str(d)+\".txt\"\n",
    "    saveFile(fileName, retrStr)"
   ]
  },
  {
   "cell_type": "markdown",
   "id": "ffa665a4-fca8-454c-bea7-2617d7db9603",
   "metadata": {},
   "source": [
    "#### L2"
   ]
  },
  {
   "cell_type": "code",
   "execution_count": 26,
   "id": "659892b5-a222-4879-98ba-c45f8a00a543",
   "metadata": {},
   "outputs": [
    {
     "name": "stdout",
     "output_type": "stream",
     "text": [
      "10 0.12893243940175347 0 0.0 0 1108 0.0\n",
      "96 1.2377514182568334 8 0.10314595152140278 5 1108 0.45126353790613716\n",
      "193 2.488396080453842 12 0.15471892728210418 6 1108 0.5415162454873647\n",
      "441 5.6859205776173285 92 1.1861784424961321 62 1108 5.595667870036101\n"
     ]
    }
   ],
   "source": [
    "n, k = 7, 4\n",
    "# G = (4x7)\n",
    "# H = (3x7)\n",
    "\n",
    "#### ENCODING ####\n",
    "finEnc = encodeLC2(M, k)\n",
    "M_ = len(finEnc)\n",
    "rot_fac = M_//2 # Because why not\n",
    "\n",
    "#### PERMUTE: RIGHT SHIFT BY ROT_FAC ####\n",
    "# finEncRot = finEnc[len(finEnc)-rot_fac : ] + finEnc[0 : len(finEnc)-rot_fac]\n",
    "finEncRot = \"\"\n",
    "permut = random.sample(range(0, M_), M_)\n",
    "for el in permut:\n",
    "    finEncRot+=finEnc[el]\n",
    "\n",
    "D = [10, 100, 200, 500]\n",
    "for d in D:\n",
    "    #### ERROR ####\n",
    "    y = incorporateErrTyp2(finEncRot, M_, d)\n",
    "    \n",
    "    ### INVERSE PERMUTE: LEFT SHIFT BY ROT_FAC ####\n",
    "    # y_ = y[rot_fac : ] + y[0 : rot_fac]\n",
    "    y_tmp = [\",\" for _ in range(len(y))]\n",
    "    for a,b in zip(y, permut):\n",
    "        y_tmp[b] = a\n",
    "    y_ = \"\"\n",
    "    for el in y_tmp:\n",
    "        y_+=el\n",
    "    \n",
    "    #### DECODING ####\n",
    "    y_, detErr = decodeLC2(y_, n)\n",
    "    \n",
    "    #### FINDING AND PRINTING ERRORS ####\n",
    "    remErr = sum(1 for a, b in zip(y_, binText) if a != b)\n",
    "    cnt, tots, retrStr = convToAsciiAndCompare(y_)\n",
    "    print(detErr, detErr*100/len(y_), remErr, remErr*100/len(y_), cnt, tots, cnt*100/tots)\n",
    "    \n",
    "    #### SAVE FILE ####\n",
    "    fileName = \"rickroll_decode_Exp4_L2_d\"+str(d)+\".txt\"\n",
    "    saveFile(fileName, retrStr)"
   ]
  },
  {
   "cell_type": "markdown",
   "id": "a785c8ab-b189-4c60-8d30-a68d17dd3692",
   "metadata": {},
   "source": [
    "## Self-Help"
   ]
  },
  {
   "cell_type": "code",
   "execution_count": null,
   "id": "d2603991-9705-4f8a-a305-f3acce8c37b4",
   "metadata": {},
   "outputs": [],
   "source": [
    "\"\"\"\n",
    "Linear code 2\n",
    "7*message code\n",
    "XOR\n",
    "chunk of 7 -> 2\n",
    "if codeword, multiply with H. C*H' = 0\n",
    "Not 0 if error. \n",
    "(C + E)*H' = E*H' = syndrome\n",
    "0100000\n",
    "y = c+e\n",
    "c = y+e\n",
    "c = len(7)\n",
    "first 4 bits\n",
    "\n",
    "detect: \n",
    "L2: syndrome non-zero => error (Detection/correction)\n",
    "For correction: comparison from actual \n",
    "\"\"\""
   ]
  }
 ],
 "metadata": {
  "kernelspec": {
   "display_name": "Python 3 (ipykernel)",
   "language": "python",
   "name": "python3"
  },
  "language_info": {
   "codemirror_mode": {
    "name": "ipython",
    "version": 3
   },
   "file_extension": ".py",
   "mimetype": "text/x-python",
   "name": "python",
   "nbconvert_exporter": "python",
   "pygments_lexer": "ipython3",
   "version": "3.9.4"
  }
 },
 "nbformat": 4,
 "nbformat_minor": 5
}
